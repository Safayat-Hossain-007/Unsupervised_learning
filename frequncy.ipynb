{
 "cells": [
  {
   "metadata": {
    "ExecuteTime": {
     "end_time": "2024-04-11T14:40:10.083765Z",
     "start_time": "2024-04-11T14:40:06.019463Z"
    }
   },
   "cell_type": "code",
   "source": [
    "import os\n",
    "from PyPDF2 import PdfReader\n",
    "\n",
    "def count_words_in_pdf(pdf_file_path):\n",
    "    total_words = 0\n",
    "    with open(pdf_file_path, 'rb') as file:\n",
    "        pdf_reader = PdfReader(file)\n",
    "        for page_num in range(len(pdf_reader.pages)):\n",
    "            total_words += len(pdf_reader.pages[page_num].extract_text().split())\n",
    "    return total_words\n",
    "\n",
    "def main():\n",
    "    directory = '/home/safayat/Desktop/4 th year 1st semester/Research works/pythonProject/DeepLearning'  # Update this path to the directory containing your PDF files\n",
    "    for filename in os.listdir(directory):\n",
    "        if filename.endswith('.pdf'):\n",
    "            file_path = os.path.join(directory, filename)\n",
    "            word_count = count_words_in_pdf(file_path)\n",
    "            print(f\"Total words in {filename}: {word_count}\")\n",
    "\n",
    "if __name__ == \"__main__\":\n",
    "    main()\n"
   ],
   "id": "c6079386e7ca6454",
   "outputs": [
    {
     "name": "stdout",
     "output_type": "stream",
     "text": [
      "Total words in path.pdf: 3585\n",
      "Total words in binarized neural network .pdf: 7138\n",
      "Total words in Applications of blockchain technology .pdf: 2789\n",
      "Total words in larochelle09a.pdf: 10581\n"
     ]
    }
   ],
   "execution_count": 3
  },
  {
   "metadata": {},
   "cell_type": "code",
   "outputs": [],
   "execution_count": null,
   "source": "",
   "id": "a9ebccea67d324ce"
  }
 ],
 "metadata": {
  "kernelspec": {
   "display_name": "Python 3",
   "language": "python",
   "name": "python3"
  },
  "language_info": {
   "codemirror_mode": {
    "name": "ipython",
    "version": 2
   },
   "file_extension": ".py",
   "mimetype": "text/x-python",
   "name": "python",
   "nbconvert_exporter": "python",
   "pygments_lexer": "ipython2",
   "version": "2.7.6"
  }
 },
 "nbformat": 4,
 "nbformat_minor": 5
}
